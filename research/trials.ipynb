{
 "cells": [
  {
   "cell_type": "code",
   "execution_count": 1,
   "metadata": {},
   "outputs": [],
   "source": [
    "import sys"
   ]
  },
  {
   "cell_type": "code",
   "execution_count": 2,
   "metadata": {},
   "outputs": [
    {
     "name": "stdout",
     "output_type": "stream",
     "text": [
      "(None, None, None)\n"
     ]
    }
   ],
   "source": [
    "print(sys.exc_info())"
   ]
  },
  {
   "cell_type": "code",
   "execution_count": 11,
   "metadata": {},
   "outputs": [
    {
     "name": "stdout",
     "output_type": "stream",
     "text": [
      "(<class 'ZeroDivisionError'>, ZeroDivisionError('division by zero'), <traceback object at 0x000002BCFF49C980>)\n",
      "111\n",
      "<traceback object at 0x000002BCFF49C980>\n",
      "222\n",
      "2\n",
      "333\n",
      "<frame at 0x000002BCFE8B5510, file 'C:\\\\Users\\\\azkar\\\\AppData\\\\Local\\\\Temp\\\\ipykernel_25616\\\\3598267816.py', line 11, code <module>>\n",
      "444\n",
      "<code object <module> at 0x000002BCFF49E3A0, file \"C:\\Users\\azkar\\AppData\\Local\\Temp\\ipykernel_25616\\3598267816.py\", line 1>\n",
      "555\n",
      "C:\\Users\\azkar\\AppData\\Local\\Temp\\ipykernel_25616\\3598267816.py\n",
      "666\n",
      "division by zero\n"
     ]
    }
   ],
   "source": [
    "try:\n",
    "    a = 1/0\n",
    "\n",
    "except Exception as e:\n",
    "    print(sys.exc_info())\n",
    "    print('1'*3)\n",
    "    print(sys.exc_info()[2])\n",
    "    print('2'*3)\n",
    "    print(sys.exc_info()[2].tb_lineno)\n",
    "    print('3'*3)\n",
    "    print(sys.exc_info()[2].tb_frame)\n",
    "    print('4'*3)\n",
    "    print(sys.exc_info()[2].tb_frame.f_code)\n",
    "    print('5'*3)\n",
    "    print(sys.exc_info()[2].tb_frame.f_code.co_filename)\n",
    "    print('6'*3)\n",
    "    print(e)"
   ]
  },
  {
   "cell_type": "code",
   "execution_count": 12,
   "metadata": {},
   "outputs": [],
   "source": [
    "import logging\n",
    "import os\n",
    "from datetime import datetime\n"
   ]
  },
  {
   "cell_type": "code",
   "execution_count": 13,
   "metadata": {},
   "outputs": [
    {
     "data": {
      "text/plain": [
       "'02_17_2024_15_54_26.log'"
      ]
     },
     "execution_count": 13,
     "metadata": {},
     "output_type": "execute_result"
    }
   ],
   "source": [
    "LOG_FILE=f\"{datetime.now().strftime('%m_%d_%Y_%H_%M_%S')}.log\"\n",
    "LOG_FILE"
   ]
  },
  {
   "cell_type": "code",
   "execution_count": 15,
   "metadata": {},
   "outputs": [
    {
     "data": {
      "text/plain": [
       "'d:\\\\End-to-End-ML-Projects\\\\diamond-price-prediction\\\\research\\\\logs'"
      ]
     },
     "execution_count": 15,
     "metadata": {},
     "output_type": "execute_result"
    }
   ],
   "source": [
    "log_path=os.path.join(os.getcwd(),\"logs\")\n",
    "log_path"
   ]
  },
  {
   "cell_type": "code",
   "execution_count": 16,
   "metadata": {},
   "outputs": [
    {
     "data": {
      "text/plain": [
       "'d:\\\\End-to-End-ML-Projects\\\\diamond-price-prediction\\\\research\\\\logs\\\\02_17_2024_15_54_26.log'"
      ]
     },
     "execution_count": 16,
     "metadata": {},
     "output_type": "execute_result"
    }
   ],
   "source": [
    "os.path.join(log_path,LOG_FILE)"
   ]
  }
 ],
 "metadata": {
  "kernelspec": {
   "display_name": "Python 3",
   "language": "python",
   "name": "python3"
  },
  "language_info": {
   "codemirror_mode": {
    "name": "ipython",
    "version": 3
   },
   "file_extension": ".py",
   "mimetype": "text/x-python",
   "name": "python",
   "nbconvert_exporter": "python",
   "pygments_lexer": "ipython3",
   "version": "3.8.18"
  }
 },
 "nbformat": 4,
 "nbformat_minor": 2
}
